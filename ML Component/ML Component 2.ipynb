{
 "cells": [
  {
   "cell_type": "markdown",
   "id": "74393c33",
   "metadata": {},
   "source": [
    "### Importing the required libraries and packages"
   ]
  },
  {
   "cell_type": "code",
   "execution_count": 1,
   "id": "8de518ab",
   "metadata": {},
   "outputs": [],
   "source": [
    "import numpy as np\n",
    "import pandas as pd\n",
    "import matplotlib.pyplot as plt\n",
    "import seaborn as sns\n",
    "\n",
    "# for label encoding\n",
    "from sklearn import preprocessing\n",
    "\n",
    "# for normalization\n",
    "from sklearn.preprocessing import StandardScaler\n",
    "\n",
    "# for chi2 test\n",
    "from sklearn.feature_selection import chi2"
   ]
  },
  {
   "cell_type": "markdown",
   "id": "1d31778b",
   "metadata": {},
   "source": [
    "### Loading the dataset"
   ]
  },
  {
   "cell_type": "code",
   "execution_count": 2,
   "id": "ec176f68",
   "metadata": {},
   "outputs": [],
   "source": [
    "df = pd.read_csv(\"2015.csv\")"
   ]
  },
  {
   "cell_type": "markdown",
   "id": "ba502719",
   "metadata": {},
   "source": [
    "### Understanding the dataset"
   ]
  },
  {
   "cell_type": "code",
   "execution_count": 3,
   "id": "e1169728",
   "metadata": {},
   "outputs": [
    {
     "data": {
      "text/html": [
       "<div>\n",
       "<style scoped>\n",
       "    .dataframe tbody tr th:only-of-type {\n",
       "        vertical-align: middle;\n",
       "    }\n",
       "\n",
       "    .dataframe tbody tr th {\n",
       "        vertical-align: top;\n",
       "    }\n",
       "\n",
       "    .dataframe thead th {\n",
       "        text-align: right;\n",
       "    }\n",
       "</style>\n",
       "<table border=\"1\" class=\"dataframe\">\n",
       "  <thead>\n",
       "    <tr style=\"text-align: right;\">\n",
       "      <th></th>\n",
       "      <th>Country</th>\n",
       "      <th>Region</th>\n",
       "      <th>Happiness Rank</th>\n",
       "      <th>Happiness Score</th>\n",
       "      <th>Standard Error</th>\n",
       "      <th>Economy (GDP per Capita)</th>\n",
       "      <th>Family</th>\n",
       "      <th>Health (Life Expectancy)</th>\n",
       "      <th>Freedom</th>\n",
       "      <th>Trust (Government Corruption)</th>\n",
       "      <th>Generosity</th>\n",
       "      <th>Dystopia Residual</th>\n",
       "    </tr>\n",
       "  </thead>\n",
       "  <tbody>\n",
       "    <tr>\n",
       "      <th>0</th>\n",
       "      <td>Switzerland</td>\n",
       "      <td>Western Europe</td>\n",
       "      <td>1</td>\n",
       "      <td>7.587</td>\n",
       "      <td>0.03411</td>\n",
       "      <td>1.39651</td>\n",
       "      <td>1.34951</td>\n",
       "      <td>0.94143</td>\n",
       "      <td>0.66557</td>\n",
       "      <td>0.41978</td>\n",
       "      <td>0.29678</td>\n",
       "      <td>2.51738</td>\n",
       "    </tr>\n",
       "    <tr>\n",
       "      <th>1</th>\n",
       "      <td>Iceland</td>\n",
       "      <td>Western Europe</td>\n",
       "      <td>2</td>\n",
       "      <td>7.561</td>\n",
       "      <td>0.04884</td>\n",
       "      <td>1.30232</td>\n",
       "      <td>1.40223</td>\n",
       "      <td>0.94784</td>\n",
       "      <td>0.62877</td>\n",
       "      <td>0.14145</td>\n",
       "      <td>0.43630</td>\n",
       "      <td>2.70201</td>\n",
       "    </tr>\n",
       "    <tr>\n",
       "      <th>2</th>\n",
       "      <td>Denmark</td>\n",
       "      <td>Western Europe</td>\n",
       "      <td>3</td>\n",
       "      <td>7.527</td>\n",
       "      <td>0.03328</td>\n",
       "      <td>1.32548</td>\n",
       "      <td>1.36058</td>\n",
       "      <td>0.87464</td>\n",
       "      <td>0.64938</td>\n",
       "      <td>0.48357</td>\n",
       "      <td>0.34139</td>\n",
       "      <td>2.49204</td>\n",
       "    </tr>\n",
       "    <tr>\n",
       "      <th>3</th>\n",
       "      <td>Norway</td>\n",
       "      <td>Western Europe</td>\n",
       "      <td>4</td>\n",
       "      <td>7.522</td>\n",
       "      <td>0.03880</td>\n",
       "      <td>1.45900</td>\n",
       "      <td>1.33095</td>\n",
       "      <td>0.88521</td>\n",
       "      <td>0.66973</td>\n",
       "      <td>0.36503</td>\n",
       "      <td>0.34699</td>\n",
       "      <td>2.46531</td>\n",
       "    </tr>\n",
       "    <tr>\n",
       "      <th>4</th>\n",
       "      <td>Canada</td>\n",
       "      <td>North America</td>\n",
       "      <td>5</td>\n",
       "      <td>7.427</td>\n",
       "      <td>0.03553</td>\n",
       "      <td>1.32629</td>\n",
       "      <td>1.32261</td>\n",
       "      <td>0.90563</td>\n",
       "      <td>0.63297</td>\n",
       "      <td>0.32957</td>\n",
       "      <td>0.45811</td>\n",
       "      <td>2.45176</td>\n",
       "    </tr>\n",
       "  </tbody>\n",
       "</table>\n",
       "</div>"
      ],
      "text/plain": [
       "       Country          Region  Happiness Rank  Happiness Score  \\\n",
       "0  Switzerland  Western Europe               1            7.587   \n",
       "1      Iceland  Western Europe               2            7.561   \n",
       "2      Denmark  Western Europe               3            7.527   \n",
       "3       Norway  Western Europe               4            7.522   \n",
       "4       Canada   North America               5            7.427   \n",
       "\n",
       "   Standard Error  Economy (GDP per Capita)   Family  \\\n",
       "0         0.03411                   1.39651  1.34951   \n",
       "1         0.04884                   1.30232  1.40223   \n",
       "2         0.03328                   1.32548  1.36058   \n",
       "3         0.03880                   1.45900  1.33095   \n",
       "4         0.03553                   1.32629  1.32261   \n",
       "\n",
       "   Health (Life Expectancy)  Freedom  Trust (Government Corruption)  \\\n",
       "0                   0.94143  0.66557                        0.41978   \n",
       "1                   0.94784  0.62877                        0.14145   \n",
       "2                   0.87464  0.64938                        0.48357   \n",
       "3                   0.88521  0.66973                        0.36503   \n",
       "4                   0.90563  0.63297                        0.32957   \n",
       "\n",
       "   Generosity  Dystopia Residual  \n",
       "0     0.29678            2.51738  \n",
       "1     0.43630            2.70201  \n",
       "2     0.34139            2.49204  \n",
       "3     0.34699            2.46531  \n",
       "4     0.45811            2.45176  "
      ]
     },
     "execution_count": 3,
     "metadata": {},
     "output_type": "execute_result"
    }
   ],
   "source": [
    "# Viewing top5 entries\n",
    "df.head()"
   ]
  },
  {
   "cell_type": "code",
   "execution_count": 4,
   "id": "bb2f4ef6",
   "metadata": {},
   "outputs": [
    {
     "data": {
      "text/plain": [
       "(158, 12)"
      ]
     },
     "execution_count": 4,
     "metadata": {},
     "output_type": "execute_result"
    }
   ],
   "source": [
    "df.shape"
   ]
  },
  {
   "cell_type": "markdown",
   "id": "574fc020",
   "metadata": {},
   "source": [
    "- The dataset has 158 rows and 12 columns"
   ]
  },
  {
   "cell_type": "code",
   "execution_count": 5,
   "id": "e26086ff",
   "metadata": {
    "scrolled": true
   },
   "outputs": [
    {
     "name": "stdout",
     "output_type": "stream",
     "text": [
      "<class 'pandas.core.frame.DataFrame'>\n",
      "RangeIndex: 158 entries, 0 to 157\n",
      "Data columns (total 12 columns):\n",
      " #   Column                         Non-Null Count  Dtype  \n",
      "---  ------                         --------------  -----  \n",
      " 0   Country                        158 non-null    object \n",
      " 1   Region                         158 non-null    object \n",
      " 2   Happiness Rank                 158 non-null    int64  \n",
      " 3   Happiness Score                158 non-null    float64\n",
      " 4   Standard Error                 158 non-null    float64\n",
      " 5   Economy (GDP per Capita)       158 non-null    float64\n",
      " 6   Family                         158 non-null    float64\n",
      " 7   Health (Life Expectancy)       158 non-null    float64\n",
      " 8   Freedom                        158 non-null    float64\n",
      " 9   Trust (Government Corruption)  158 non-null    float64\n",
      " 10  Generosity                     158 non-null    float64\n",
      " 11  Dystopia Residual              158 non-null    float64\n",
      "dtypes: float64(9), int64(1), object(2)\n",
      "memory usage: 14.9+ KB\n"
     ]
    }
   ],
   "source": [
    "df.info()"
   ]
  },
  {
   "cell_type": "markdown",
   "id": "9d974e25",
   "metadata": {},
   "source": [
    "- The dataset has two qualitative columns: Country and Origin\n",
    "- These variables may be required to be converted into quantitative for further analysis"
   ]
  },
  {
   "cell_type": "code",
   "execution_count": 6,
   "id": "906fceac",
   "metadata": {},
   "outputs": [
    {
     "data": {
      "text/plain": [
       "Country                          0\n",
       "Region                           0\n",
       "Happiness Rank                   0\n",
       "Happiness Score                  0\n",
       "Standard Error                   0\n",
       "Economy (GDP per Capita)         0\n",
       "Family                           0\n",
       "Health (Life Expectancy)         0\n",
       "Freedom                          0\n",
       "Trust (Government Corruption)    0\n",
       "Generosity                       0\n",
       "Dystopia Residual                0\n",
       "dtype: int64"
      ]
     },
     "execution_count": 6,
     "metadata": {},
     "output_type": "execute_result"
    }
   ],
   "source": [
    "# Identifying missing values\n",
    "df.isnull().sum()"
   ]
  },
  {
   "cell_type": "markdown",
   "id": "27efb840",
   "metadata": {},
   "source": [
    "- No columns have missing values"
   ]
  },
  {
   "cell_type": "code",
   "execution_count": 7,
   "id": "8b358f60",
   "metadata": {},
   "outputs": [
    {
     "data": {
      "text/plain": [
       "count    158.000000\n",
       "mean       5.375734\n",
       "std        1.145010\n",
       "min        2.839000\n",
       "25%        4.526000\n",
       "50%        5.232500\n",
       "75%        6.243750\n",
       "max        7.587000\n",
       "Name: Happiness Score, dtype: float64"
      ]
     },
     "execution_count": 7,
     "metadata": {},
     "output_type": "execute_result"
    }
   ],
   "source": [
    "# Understanding Happiness Score column\n",
    "df['Happiness Score'].describe()"
   ]
  },
  {
   "cell_type": "code",
   "execution_count": 8,
   "id": "d7f3d181",
   "metadata": {},
   "outputs": [],
   "source": [
    "# Creating bins to categorize countries into 'Low Happiness', 'Medium Happiness', and 'High Happiness' groups.\n",
    "HappinessScore_bins=[0, 5, 7, np.inf]\n",
    "labels=['Low Happiness','Medium Happiness','High Happiness']\n",
    "\n",
    "df['Happiness Score'] = pd.cut(df['Happiness Score'], bins=HappinessScore_bins, labels=labels)"
   ]
  },
  {
   "cell_type": "code",
   "execution_count": 9,
   "id": "3e00a364",
   "metadata": {
    "scrolled": true
   },
   "outputs": [
    {
     "data": {
      "text/html": [
       "<div>\n",
       "<style scoped>\n",
       "    .dataframe tbody tr th:only-of-type {\n",
       "        vertical-align: middle;\n",
       "    }\n",
       "\n",
       "    .dataframe tbody tr th {\n",
       "        vertical-align: top;\n",
       "    }\n",
       "\n",
       "    .dataframe thead th {\n",
       "        text-align: right;\n",
       "    }\n",
       "</style>\n",
       "<table border=\"1\" class=\"dataframe\">\n",
       "  <thead>\n",
       "    <tr style=\"text-align: right;\">\n",
       "      <th></th>\n",
       "      <th>Country</th>\n",
       "      <th>Region</th>\n",
       "      <th>Happiness Rank</th>\n",
       "      <th>Happiness Score</th>\n",
       "      <th>Standard Error</th>\n",
       "      <th>Economy (GDP per Capita)</th>\n",
       "      <th>Family</th>\n",
       "      <th>Health (Life Expectancy)</th>\n",
       "      <th>Freedom</th>\n",
       "      <th>Trust (Government Corruption)</th>\n",
       "      <th>Generosity</th>\n",
       "      <th>Dystopia Residual</th>\n",
       "    </tr>\n",
       "  </thead>\n",
       "  <tbody>\n",
       "    <tr>\n",
       "      <th>0</th>\n",
       "      <td>Switzerland</td>\n",
       "      <td>Western Europe</td>\n",
       "      <td>1</td>\n",
       "      <td>High Happiness</td>\n",
       "      <td>0.03411</td>\n",
       "      <td>1.39651</td>\n",
       "      <td>1.34951</td>\n",
       "      <td>0.94143</td>\n",
       "      <td>0.66557</td>\n",
       "      <td>0.41978</td>\n",
       "      <td>0.29678</td>\n",
       "      <td>2.51738</td>\n",
       "    </tr>\n",
       "    <tr>\n",
       "      <th>1</th>\n",
       "      <td>Iceland</td>\n",
       "      <td>Western Europe</td>\n",
       "      <td>2</td>\n",
       "      <td>High Happiness</td>\n",
       "      <td>0.04884</td>\n",
       "      <td>1.30232</td>\n",
       "      <td>1.40223</td>\n",
       "      <td>0.94784</td>\n",
       "      <td>0.62877</td>\n",
       "      <td>0.14145</td>\n",
       "      <td>0.43630</td>\n",
       "      <td>2.70201</td>\n",
       "    </tr>\n",
       "    <tr>\n",
       "      <th>2</th>\n",
       "      <td>Denmark</td>\n",
       "      <td>Western Europe</td>\n",
       "      <td>3</td>\n",
       "      <td>High Happiness</td>\n",
       "      <td>0.03328</td>\n",
       "      <td>1.32548</td>\n",
       "      <td>1.36058</td>\n",
       "      <td>0.87464</td>\n",
       "      <td>0.64938</td>\n",
       "      <td>0.48357</td>\n",
       "      <td>0.34139</td>\n",
       "      <td>2.49204</td>\n",
       "    </tr>\n",
       "    <tr>\n",
       "      <th>3</th>\n",
       "      <td>Norway</td>\n",
       "      <td>Western Europe</td>\n",
       "      <td>4</td>\n",
       "      <td>High Happiness</td>\n",
       "      <td>0.03880</td>\n",
       "      <td>1.45900</td>\n",
       "      <td>1.33095</td>\n",
       "      <td>0.88521</td>\n",
       "      <td>0.66973</td>\n",
       "      <td>0.36503</td>\n",
       "      <td>0.34699</td>\n",
       "      <td>2.46531</td>\n",
       "    </tr>\n",
       "    <tr>\n",
       "      <th>4</th>\n",
       "      <td>Canada</td>\n",
       "      <td>North America</td>\n",
       "      <td>5</td>\n",
       "      <td>High Happiness</td>\n",
       "      <td>0.03553</td>\n",
       "      <td>1.32629</td>\n",
       "      <td>1.32261</td>\n",
       "      <td>0.90563</td>\n",
       "      <td>0.63297</td>\n",
       "      <td>0.32957</td>\n",
       "      <td>0.45811</td>\n",
       "      <td>2.45176</td>\n",
       "    </tr>\n",
       "  </tbody>\n",
       "</table>\n",
       "</div>"
      ],
      "text/plain": [
       "       Country          Region  Happiness Rank Happiness Score  \\\n",
       "0  Switzerland  Western Europe               1  High Happiness   \n",
       "1      Iceland  Western Europe               2  High Happiness   \n",
       "2      Denmark  Western Europe               3  High Happiness   \n",
       "3       Norway  Western Europe               4  High Happiness   \n",
       "4       Canada   North America               5  High Happiness   \n",
       "\n",
       "   Standard Error  Economy (GDP per Capita)   Family  \\\n",
       "0         0.03411                   1.39651  1.34951   \n",
       "1         0.04884                   1.30232  1.40223   \n",
       "2         0.03328                   1.32548  1.36058   \n",
       "3         0.03880                   1.45900  1.33095   \n",
       "4         0.03553                   1.32629  1.32261   \n",
       "\n",
       "   Health (Life Expectancy)  Freedom  Trust (Government Corruption)  \\\n",
       "0                   0.94143  0.66557                        0.41978   \n",
       "1                   0.94784  0.62877                        0.14145   \n",
       "2                   0.87464  0.64938                        0.48357   \n",
       "3                   0.88521  0.66973                        0.36503   \n",
       "4                   0.90563  0.63297                        0.32957   \n",
       "\n",
       "   Generosity  Dystopia Residual  \n",
       "0     0.29678            2.51738  \n",
       "1     0.43630            2.70201  \n",
       "2     0.34139            2.49204  \n",
       "3     0.34699            2.46531  \n",
       "4     0.45811            2.45176  "
      ]
     },
     "execution_count": 9,
     "metadata": {},
     "output_type": "execute_result"
    }
   ],
   "source": [
    "df.head()"
   ]
  },
  {
   "cell_type": "markdown",
   "id": "01915554",
   "metadata": {},
   "source": [
    "- The Happiness Scores have been converted to categorical variable"
   ]
  },
  {
   "cell_type": "markdown",
   "id": "09756af3",
   "metadata": {},
   "source": [
    "### Normalization"
   ]
  },
  {
   "cell_type": "code",
   "execution_count": 22,
   "id": "e8a3752d",
   "metadata": {
    "scrolled": false
   },
   "outputs": [
    {
     "data": {
      "text/plain": [
       "[<matplotlib.lines.Line2D at 0x113e5312310>]"
      ]
     },
     "execution_count": 22,
     "metadata": {},
     "output_type": "execute_result"
    },
    {
     "data": {
      "image/png": "[encoded data removed]",
      "text/plain": [
       "<Figure size 432x288 with 1 Axes>"
      ]
     },
     "metadata": {
      "needs_background": "light"
     },
     "output_type": "display_data"
    }
   ],
   "source": [
    "# Visualizing Economy (GDP per Capita) column before normalization\n",
    "plt.plot(df['Economy (GDP per Capita)'])"
   ]
  },
  {
   "cell_type": "code",
   "execution_count": 36,
   "id": "c10a4502",
   "metadata": {},
   "outputs": [],
   "source": [
    "# Normalizing\n",
    "df['Economy (GDP per Capita)']=StandardScaler().fit_transform(np.array(df['Economy (GDP per Capita)']).reshape(-1, 1))"
   ]
  },
  {
   "cell_type": "code",
   "execution_count": 37,
   "id": "73a066b4",
   "metadata": {
    "scrolled": true
   },
   "outputs": [
    {
     "data": {
      "text/plain": [
       "count    1.580000e+02\n",
       "mean    -4.314411e-16\n",
       "std      1.003180e+00\n",
       "min     -2.105641e+00\n",
       "25%     -7.473806e-01\n",
       "50%      1.595344e-01\n",
       "75%      7.771947e-01\n",
       "max      2.101026e+00\n",
       "Name: Economy (GDP per Capita), dtype: float64"
      ]
     },
     "execution_count": 37,
     "metadata": {},
     "output_type": "execute_result"
    }
   ],
   "source": [
    "df['Economy (GDP per Capita)'].describe()"
   ]
  },
  {
   "cell_type": "code",
   "execution_count": 38,
   "id": "a6b4e30a",
   "metadata": {
    "scrolled": true
   },
   "outputs": [
    {
     "data": {
      "text/plain": [
       "(array([ 7., 17., 14., 14., 19., 24., 26., 26.,  7.,  4.]),\n",
       " array([-2.10564101, -1.68497429, -1.26430757, -0.84364085, -0.42297413,\n",
       "        -0.00230741,  0.41835931,  0.83902603,  1.25969275,  1.68035947,\n",
       "         2.1010262 ]),\n",
       " <BarContainer object of 10 artists>)"
      ]
     },
     "execution_count": 38,
     "metadata": {},
     "output_type": "execute_result"
    },
    {
     "data": {
      "image/png": "[encoded data removed]",
      "text/plain": [
       "<Figure size 432x288 with 1 Axes>"
      ]
     },
     "metadata": {
      "needs_background": "light"
     },
     "output_type": "display_data"
    }
   ],
   "source": [
    "plt.hist(df['Economy (GDP per Capita)'])"
   ]
  },
  {
   "cell_type": "markdown",
   "id": "45a7b50a",
   "metadata": {},
   "source": [
    "### Encoding"
   ]
  },
  {
   "cell_type": "code",
   "execution_count": 12,
   "id": "02a83dcb",
   "metadata": {},
   "outputs": [],
   "source": [
    "# Enabling Label encoder\n",
    "Label_encoder = preprocessing.LabelEncoder()"
   ]
  },
  {
   "cell_type": "code",
   "execution_count": 13,
   "id": "5bc9e27c",
   "metadata": {},
   "outputs": [],
   "source": [
    "# Encoding qualitative variables to quantitave for further analysis\n",
    "df['Region']=Label_encoder.fit_transform(df['Region'])\n",
    "df['Country']=Label_encoder.fit_transform(df['Country'])"
   ]
  },
  {
   "cell_type": "code",
   "execution_count": 14,
   "id": "73d74b7e",
   "metadata": {},
   "outputs": [
    {
     "data": {
      "text/html": [
       "<div>\n",
       "<style scoped>\n",
       "    .dataframe tbody tr th:only-of-type {\n",
       "        vertical-align: middle;\n",
       "    }\n",
       "\n",
       "    .dataframe tbody tr th {\n",
       "        vertical-align: top;\n",
       "    }\n",
       "\n",
       "    .dataframe thead th {\n",
       "        text-align: right;\n",
       "    }\n",
       "</style>\n",
       "<table border=\"1\" class=\"dataframe\">\n",
       "  <thead>\n",
       "    <tr style=\"text-align: right;\">\n",
       "      <th></th>\n",
       "      <th>Country</th>\n",
       "      <th>Region</th>\n",
       "      <th>Happiness Rank</th>\n",
       "      <th>Happiness Score</th>\n",
       "      <th>Standard Error</th>\n",
       "      <th>Economy (GDP per Capita)</th>\n",
       "      <th>Family</th>\n",
       "      <th>Health (Life Expectancy)</th>\n",
       "      <th>Freedom</th>\n",
       "      <th>Trust (Government Corruption)</th>\n",
       "      <th>Generosity</th>\n",
       "      <th>Dystopia Residual</th>\n",
       "    </tr>\n",
       "  </thead>\n",
       "  <tbody>\n",
       "    <tr>\n",
       "      <th>0</th>\n",
       "      <td>135</td>\n",
       "      <td>9</td>\n",
       "      <td>1</td>\n",
       "      <td>High Happiness</td>\n",
       "      <td>0.03411</td>\n",
       "      <td>1.39651</td>\n",
       "      <td>1.34951</td>\n",
       "      <td>0.94143</td>\n",
       "      <td>0.66557</td>\n",
       "      <td>0.41978</td>\n",
       "      <td>0.29678</td>\n",
       "      <td>2.51738</td>\n",
       "    </tr>\n",
       "    <tr>\n",
       "      <th>1</th>\n",
       "      <td>58</td>\n",
       "      <td>9</td>\n",
       "      <td>2</td>\n",
       "      <td>High Happiness</td>\n",
       "      <td>0.04884</td>\n",
       "      <td>1.30232</td>\n",
       "      <td>1.40223</td>\n",
       "      <td>0.94784</td>\n",
       "      <td>0.62877</td>\n",
       "      <td>0.14145</td>\n",
       "      <td>0.43630</td>\n",
       "      <td>2.70201</td>\n",
       "    </tr>\n",
       "    <tr>\n",
       "      <th>2</th>\n",
       "      <td>37</td>\n",
       "      <td>9</td>\n",
       "      <td>3</td>\n",
       "      <td>High Happiness</td>\n",
       "      <td>0.03328</td>\n",
       "      <td>1.32548</td>\n",
       "      <td>1.36058</td>\n",
       "      <td>0.87464</td>\n",
       "      <td>0.64938</td>\n",
       "      <td>0.48357</td>\n",
       "      <td>0.34139</td>\n",
       "      <td>2.49204</td>\n",
       "    </tr>\n",
       "    <tr>\n",
       "      <th>3</th>\n",
       "      <td>105</td>\n",
       "      <td>9</td>\n",
       "      <td>4</td>\n",
       "      <td>High Happiness</td>\n",
       "      <td>0.03880</td>\n",
       "      <td>1.45900</td>\n",
       "      <td>1.33095</td>\n",
       "      <td>0.88521</td>\n",
       "      <td>0.66973</td>\n",
       "      <td>0.36503</td>\n",
       "      <td>0.34699</td>\n",
       "      <td>2.46531</td>\n",
       "    </tr>\n",
       "    <tr>\n",
       "      <th>4</th>\n",
       "      <td>24</td>\n",
       "      <td>5</td>\n",
       "      <td>5</td>\n",
       "      <td>High Happiness</td>\n",
       "      <td>0.03553</td>\n",
       "      <td>1.32629</td>\n",
       "      <td>1.32261</td>\n",
       "      <td>0.90563</td>\n",
       "      <td>0.63297</td>\n",
       "      <td>0.32957</td>\n",
       "      <td>0.45811</td>\n",
       "      <td>2.45176</td>\n",
       "    </tr>\n",
       "  </tbody>\n",
       "</table>\n",
       "</div>"
      ],
      "text/plain": [
       "   Country  Region  Happiness Rank Happiness Score  Standard Error  \\\n",
       "0      135       9               1  High Happiness         0.03411   \n",
       "1       58       9               2  High Happiness         0.04884   \n",
       "2       37       9               3  High Happiness         0.03328   \n",
       "3      105       9               4  High Happiness         0.03880   \n",
       "4       24       5               5  High Happiness         0.03553   \n",
       "\n",
       "   Economy (GDP per Capita)   Family  Health (Life Expectancy)  Freedom  \\\n",
       "0                   1.39651  1.34951                   0.94143  0.66557   \n",
       "1                   1.30232  1.40223                   0.94784  0.62877   \n",
       "2                   1.32548  1.36058                   0.87464  0.64938   \n",
       "3                   1.45900  1.33095                   0.88521  0.66973   \n",
       "4                   1.32629  1.32261                   0.90563  0.63297   \n",
       "\n",
       "   Trust (Government Corruption)  Generosity  Dystopia Residual  \n",
       "0                        0.41978     0.29678            2.51738  \n",
       "1                        0.14145     0.43630            2.70201  \n",
       "2                        0.48357     0.34139            2.49204  \n",
       "3                        0.36503     0.34699            2.46531  \n",
       "4                        0.32957     0.45811            2.45176  "
      ]
     },
     "execution_count": 14,
     "metadata": {},
     "output_type": "execute_result"
    }
   ],
   "source": [
    "df.head()\n",
    "# The values for columns have been converted from categorical to numerical values."
   ]
  },
  {
   "cell_type": "markdown",
   "id": "6f99ae1e",
   "metadata": {},
   "source": [
    "### Chi-square test"
   ]
  },
  {
   "cell_type": "code",
   "execution_count": 20,
   "id": "25bcd9b4",
   "metadata": {
    "scrolled": true
   },
   "outputs": [
    {
     "data": {
      "text/plain": [
       "(array([4.18301911e+03, 2.73856613e+02, 9.63383602e-01, 1.17411594e+01,\n",
       "        1.52064857e+01, 8.25943039e+00, 1.57722432e+01, 1.06129718e+01,\n",
       "        2.29079625e+01]),\n",
       " array([0.00000000e+00, 1.70258781e-08, 1.00000000e+00, 1.00000000e+00,\n",
       "        1.00000000e+00, 1.00000000e+00, 1.00000000e+00, 1.00000000e+00,\n",
       "        1.00000000e+00]))"
      ]
     },
     "execution_count": 20,
     "metadata": {},
     "output_type": "execute_result"
    }
   ],
   "source": [
    "X=df.drop(columns=['Happiness Rank', 'Happiness Score', 'Economy (GDP per Capita)'])\n",
    "# we have dropped 'Economy (GDP per Capita)' because it has been normalised and takes negative values\n",
    "Y=df['Happiness Rank']\n",
    "chi_scores=chi2(X,Y)\n",
    "chi_scores"
   ]
  },
  {
   "cell_type": "code",
   "execution_count": 21,
   "id": "e8146eb8",
   "metadata": {
    "scrolled": true
   },
   "outputs": [
    {
     "data": {
      "text/plain": [
       "<AxesSubplot:>"
      ]
     },
     "execution_count": 21,
     "metadata": {},
     "output_type": "execute_result"
    },
    {
     "data": {
      "image/png": "[encoded data removed]",
      "text/plain": [
       "<Figure size 432x288 with 1 Axes>"
      ]
     },
     "metadata": {
      "needs_background": "light"
     },
     "output_type": "display_data"
    }
   ],
   "source": [
    "chi_values=pd.Series(chi_scores[0],index=X.columns)\n",
    "chi_values.sort_values(ascending=False,inplace=True)\n",
    "chi_values.plot.bar()"
   ]
  },
  {
   "cell_type": "code",
   "execution_count": 25,
   "id": "f5cddbc6",
   "metadata": {
    "scrolled": false
   },
   "outputs": [
    {
     "data": {
      "text/plain": [
       "<AxesSubplot:>"
      ]
     },
     "execution_count": 25,
     "metadata": {},
     "output_type": "execute_result"
    },
    {
     "data": {
      "image/png": "[encoded data removed]",
      "text/plain": [
       "<Figure size 432x288 with 1 Axes>"
      ]
     },
     "metadata": {
      "needs_background": "light"
     },
     "output_type": "display_data"
    }
   ],
   "source": [
    "p_values=pd.Series(chi_scores[1],index=X.columns)\n",
    "p_values.sort_values(ascending=False,inplace=True)\n",
    "p_values.plot.bar()"
   ]
  },
  {
   "cell_type": "markdown",
   "id": "cc2dfb1d",
   "metadata": {},
   "source": [
    "### Inference: \n",
    "- On perfroming the chi-square test, it can be understood from the plots for chi-scores and p-values that the target varible(Happiness Rank) is highly influenced by variables: 'Region' and 'Country'"
   ]
  },
  {
   "cell_type": "markdown",
   "id": "4203e459",
   "metadata": {},
   "source": [
    "- It can be observed that the data points were scaled between the interval: -1 and 1"
   ]
  },
  {
   "cell_type": "code",
   "execution_count": 53,
   "id": "36a2a9bc",
   "metadata": {},
   "outputs": [
    {
     "data": {
      "image/png": "[encoded data removed]",
      "text/plain": [
       "<Figure size 432x288 with 1 Axes>"
      ]
     },
     "metadata": {
      "needs_background": "light"
     },
     "output_type": "display_data"
    }
   ],
   "source": [
    "# Creating stacked barplot for region and happiness\n",
    "cross_table01 = pd.crosstab(df['Region'], df['Happiness Score'])\n",
    "# print(cross_table01)\n",
    "plot = cross_table01.plot(kind=\"bar\", stacked=True)\n",
    "plt.title('stacked barplot for region and happiness')\n",
    "plt.show()"
   ]
  },
  {
   "cell_type": "code",
   "execution_count": 56,
   "id": "5592e1cc",
   "metadata": {},
   "outputs": [
    {
     "data": {
      "text/html": [
       "<div>\n",
       "<style scoped>\n",
       "    .dataframe tbody tr th:only-of-type {\n",
       "        vertical-align: middle;\n",
       "    }\n",
       "\n",
       "    .dataframe tbody tr th {\n",
       "        vertical-align: top;\n",
       "    }\n",
       "\n",
       "    .dataframe thead th {\n",
       "        text-align: right;\n",
       "    }\n",
       "</style>\n",
       "<table border=\"1\" class=\"dataframe\">\n",
       "  <thead>\n",
       "    <tr style=\"text-align: right;\">\n",
       "      <th></th>\n",
       "      <th>Country</th>\n",
       "      <th>Region</th>\n",
       "      <th>Happiness Rank</th>\n",
       "      <th>Standard Error</th>\n",
       "      <th>Economy (GDP per Capita)</th>\n",
       "      <th>Family</th>\n",
       "      <th>Health (Life Expectancy)</th>\n",
       "      <th>Freedom</th>\n",
       "      <th>Trust (Government Corruption)</th>\n",
       "      <th>Generosity</th>\n",
       "      <th>Dystopia Residual</th>\n",
       "    </tr>\n",
       "  </thead>\n",
       "  <tbody>\n",
       "    <tr>\n",
       "      <th>Country</th>\n",
       "      <td>2093.500000</td>\n",
       "      <td>0.697452</td>\n",
       "      <td>-206.286624</td>\n",
       "      <td>0.026579</td>\n",
       "      <td>1.735417</td>\n",
       "      <td>1.986673</td>\n",
       "      <td>0.427653</td>\n",
       "      <td>0.590785</td>\n",
       "      <td>0.484157</td>\n",
       "      <td>0.684472</td>\n",
       "      <td>-0.500917</td>\n",
       "    </tr>\n",
       "    <tr>\n",
       "      <th>Region</th>\n",
       "      <td>0.697452</td>\n",
       "      <td>8.959969</td>\n",
       "      <td>29.277836</td>\n",
       "      <td>-0.001160</td>\n",
       "      <td>-0.781155</td>\n",
       "      <td>-0.137403</td>\n",
       "      <td>-0.264407</td>\n",
       "      <td>0.041754</td>\n",
       "      <td>0.059299</td>\n",
       "      <td>0.103735</td>\n",
       "      <td>-0.094904</td>\n",
       "    </tr>\n",
       "    <tr>\n",
       "      <th>Happiness Rank</th>\n",
       "      <td>-206.286624</td>\n",
       "      <td>29.277836</td>\n",
       "      <td>2093.461743</td>\n",
       "      <td>0.124358</td>\n",
       "      <td>-36.043631</td>\n",
       "      <td>-9.142720</td>\n",
       "      <td>-8.316021</td>\n",
       "      <td>-3.839647</td>\n",
       "      <td>-2.044785</td>\n",
       "      <td>-0.928243</td>\n",
       "      <td>-13.220847</td>\n",
       "    </tr>\n",
       "    <tr>\n",
       "      <th>Standard Error</th>\n",
       "      <td>0.026579</td>\n",
       "      <td>-0.001160</td>\n",
       "      <td>0.124358</td>\n",
       "      <td>0.000294</td>\n",
       "      <td>-0.003744</td>\n",
       "      <td>-0.000564</td>\n",
       "      <td>-0.001315</td>\n",
       "      <td>-0.000335</td>\n",
       "      <td>-0.000367</td>\n",
       "      <td>-0.000192</td>\n",
       "      <td>0.000797</td>\n",
       "    </tr>\n",
       "    <tr>\n",
       "      <th>Economy (GDP per Capita)</th>\n",
       "      <td>1.735417</td>\n",
       "      <td>-0.781155</td>\n",
       "      <td>-36.043631</td>\n",
       "      <td>-0.003744</td>\n",
       "      <td>1.006369</td>\n",
       "      <td>0.176318</td>\n",
       "      <td>0.202375</td>\n",
       "      <td>0.055979</td>\n",
       "      <td>0.037074</td>\n",
       "      <td>-0.001330</td>\n",
       "      <td>0.022245</td>\n",
       "    </tr>\n",
       "    <tr>\n",
       "      <th>Family</th>\n",
       "      <td>1.986673</td>\n",
       "      <td>-0.137403</td>\n",
       "      <td>-9.142720</td>\n",
       "      <td>-0.000564</td>\n",
       "      <td>0.176318</td>\n",
       "      <td>0.074185</td>\n",
       "      <td>0.035741</td>\n",
       "      <td>0.018122</td>\n",
       "      <td>0.006722</td>\n",
       "      <td>0.003020</td>\n",
       "      <td>0.022332</td>\n",
       "    </tr>\n",
       "    <tr>\n",
       "      <th>Health (Life Expectancy)</th>\n",
       "      <td>0.427653</td>\n",
       "      <td>-0.264407</td>\n",
       "      <td>-8.316021</td>\n",
       "      <td>-0.001315</td>\n",
       "      <td>0.202375</td>\n",
       "      <td>0.035741</td>\n",
       "      <td>0.061047</td>\n",
       "      <td>0.013422</td>\n",
       "      <td>0.007365</td>\n",
       "      <td>0.003391</td>\n",
       "      <td>0.002596</td>\n",
       "    </tr>\n",
       "    <tr>\n",
       "      <th>Freedom</th>\n",
       "      <td>0.590785</td>\n",
       "      <td>0.041754</td>\n",
       "      <td>-3.839647</td>\n",
       "      <td>-0.000335</td>\n",
       "      <td>0.055979</td>\n",
       "      <td>0.018122</td>\n",
       "      <td>0.013422</td>\n",
       "      <td>0.022708</td>\n",
       "      <td>0.008927</td>\n",
       "      <td>0.007138</td>\n",
       "      <td>0.005237</td>\n",
       "    </tr>\n",
       "    <tr>\n",
       "      <th>Trust (Government Corruption)</th>\n",
       "      <td>0.484157</td>\n",
       "      <td>0.059299</td>\n",
       "      <td>-2.044785</td>\n",
       "      <td>-0.000367</td>\n",
       "      <td>0.037074</td>\n",
       "      <td>0.006722</td>\n",
       "      <td>0.007365</td>\n",
       "      <td>0.008927</td>\n",
       "      <td>0.014408</td>\n",
       "      <td>0.004199</td>\n",
       "      <td>-0.002200</td>\n",
       "    </tr>\n",
       "    <tr>\n",
       "      <th>Generosity</th>\n",
       "      <td>0.684472</td>\n",
       "      <td>0.103735</td>\n",
       "      <td>-0.928243</td>\n",
       "      <td>-0.000192</td>\n",
       "      <td>-0.001330</td>\n",
       "      <td>0.003020</td>\n",
       "      <td>0.003391</td>\n",
       "      <td>0.007138</td>\n",
       "      <td>0.004199</td>\n",
       "      <td>0.016049</td>\n",
       "      <td>-0.007104</td>\n",
       "    </tr>\n",
       "    <tr>\n",
       "      <th>Dystopia Residual</th>\n",
       "      <td>-0.500917</td>\n",
       "      <td>-0.094904</td>\n",
       "      <td>-13.220847</td>\n",
       "      <td>0.000797</td>\n",
       "      <td>0.022245</td>\n",
       "      <td>0.022332</td>\n",
       "      <td>0.002596</td>\n",
       "      <td>0.005237</td>\n",
       "      <td>-0.002200</td>\n",
       "      <td>-0.007104</td>\n",
       "      <td>0.306417</td>\n",
       "    </tr>\n",
       "  </tbody>\n",
       "</table>\n",
       "</div>"
      ],
      "text/plain": [
       "                                   Country     Region  Happiness Rank  \\\n",
       "Country                        2093.500000   0.697452     -206.286624   \n",
       "Region                            0.697452   8.959969       29.277836   \n",
       "Happiness Rank                 -206.286624  29.277836     2093.461743   \n",
       "Standard Error                    0.026579  -0.001160        0.124358   \n",
       "Economy (GDP per Capita)          1.735417  -0.781155      -36.043631   \n",
       "Family                            1.986673  -0.137403       -9.142720   \n",
       "Health (Life Expectancy)          0.427653  -0.264407       -8.316021   \n",
       "Freedom                           0.590785   0.041754       -3.839647   \n",
       "Trust (Government Corruption)     0.484157   0.059299       -2.044785   \n",
       "Generosity                        0.684472   0.103735       -0.928243   \n",
       "Dystopia Residual                -0.500917  -0.094904      -13.220847   \n",
       "\n",
       "                               Standard Error  Economy (GDP per Capita)  \\\n",
       "Country                              0.026579                  1.735417   \n",
       "Region                              -0.001160                 -0.781155   \n",
       "Happiness Rank                       0.124358                -36.043631   \n",
       "Standard Error                       0.000294                 -0.003744   \n",
       "Economy (GDP per Capita)            -0.003744                  1.006369   \n",
       "Family                              -0.000564                  0.176318   \n",
       "Health (Life Expectancy)            -0.001315                  0.202375   \n",
       "Freedom                             -0.000335                  0.055979   \n",
       "Trust (Government Corruption)       -0.000367                  0.037074   \n",
       "Generosity                          -0.000192                 -0.001330   \n",
       "Dystopia Residual                    0.000797                  0.022245   \n",
       "\n",
       "                                 Family  Health (Life Expectancy)   Freedom  \\\n",
       "Country                        1.986673                  0.427653  0.590785   \n",
       "Region                        -0.137403                 -0.264407  0.041754   \n",
       "Happiness Rank                -9.142720                 -8.316021 -3.839647   \n",
       "Standard Error                -0.000564                 -0.001315 -0.000335   \n",
       "Economy (GDP per Capita)       0.176318                  0.202375  0.055979   \n",
       "Family                         0.074185                  0.035741  0.018122   \n",
       "Health (Life Expectancy)       0.035741                  0.061047  0.013422   \n",
       "Freedom                        0.018122                  0.013422  0.022708   \n",
       "Trust (Government Corruption)  0.006722                  0.007365  0.008927   \n",
       "Generosity                     0.003020                  0.003391  0.007138   \n",
       "Dystopia Residual              0.022332                  0.002596  0.005237   \n",
       "\n",
       "                               Trust (Government Corruption)  Generosity  \\\n",
       "Country                                             0.484157    0.684472   \n",
       "Region                                              0.059299    0.103735   \n",
       "Happiness Rank                                     -2.044785   -0.928243   \n",
       "Standard Error                                     -0.000367   -0.000192   \n",
       "Economy (GDP per Capita)                            0.037074   -0.001330   \n",
       "Family                                              0.006722    0.003020   \n",
       "Health (Life Expectancy)                            0.007365    0.003391   \n",
       "Freedom                                             0.008927    0.007138   \n",
       "Trust (Government Corruption)                       0.014408    0.004199   \n",
       "Generosity                                          0.004199    0.016049   \n",
       "Dystopia Residual                                  -0.002200   -0.007104   \n",
       "\n",
       "                               Dystopia Residual  \n",
       "Country                                -0.500917  \n",
       "Region                                 -0.094904  \n",
       "Happiness Rank                        -13.220847  \n",
       "Standard Error                          0.000797  \n",
       "Economy (GDP per Capita)                0.022245  \n",
       "Family                                  0.022332  \n",
       "Health (Life Expectancy)                0.002596  \n",
       "Freedom                                 0.005237  \n",
       "Trust (Government Corruption)          -0.002200  \n",
       "Generosity                             -0.007104  \n",
       "Dystopia Residual                       0.306417  "
      ]
     },
     "execution_count": 56,
     "metadata": {},
     "output_type": "execute_result"
    }
   ],
   "source": [
    "# creating covariance matrix and heatmap to understand relationship among variables\n",
    "cov_matrix = pd.DataFrame.cov(df)\n",
    "cov_matrix"
   ]
  },
  {
   "cell_type": "code",
   "execution_count": 57,
   "id": "1534eb19",
   "metadata": {},
   "outputs": [
    {
     "data": {
      "image/png": "[encoded data removed]",
      "text/plain": [
       "<Figure size 1080x864 with 2 Axes>"
      ]
     },
     "metadata": {
      "needs_background": "light"
     },
     "output_type": "display_data"
    }
   ],
   "source": [
    "plt.figure(figsize=(15, 12))\n",
    "sns.heatmap(cov_matrix, annot=True, cmap='crest', linewidths=0.5)\n",
    "plt.title('Covariance Heatmap - Happiness Dataset')\n",
    "plt.show()"
   ]
  },
  {
   "cell_type": "markdown",
   "id": "714ee9dc",
   "metadata": {},
   "source": [
    "### Visualizations"
   ]
  },
  {
   "cell_type": "code",
   "execution_count": 60,
   "id": "f9d181eb",
   "metadata": {},
   "outputs": [],
   "source": [
    "def countplot(column):\n",
    "    plt.figure(figsize=(14,5))\n",
    "    ax = sns.countplot(x=column, data=df, hue=\"Happiness Score\",palette=\"Set2\")\n",
    "    for value in ax.patches:\n",
    "        percentage = \"{:.1f}%\".format(100*value.get_height()/len(df[column]))\n",
    "        x = value.get_x() + value.get_width() / 2 - 0.05\n",
    "        y = value.get_y() + value.get_height()\n",
    "        ax.annotate(percentage, (x,y), fontweight=\"black\",size=15)\n",
    "        \n",
    "    plt.title(f\"Happiness Score{column}\",fontweight=\"black\",size=20,pad=20)\n",
    "    plt.show()"
   ]
  },
  {
   "cell_type": "code",
   "execution_count": 61,
   "id": "44979520",
   "metadata": {},
   "outputs": [
    {
     "data": {
      "image/png": "[encoded data removed]",
      "text/plain": [
       "<Figure size 1008x360 with 1 Axes>"
      ]
     },
     "metadata": {
      "needs_background": "light"
     },
     "output_type": "display_data"
    }
   ],
   "source": [
    "for col in df[['Happiness Score']]:\n",
    "    countplot(col)"
   ]
  },
  {
   "cell_type": "code",
   "execution_count": null,
   "id": "d7c7253b",
   "metadata": {},
   "outputs": [],
   "source": []
  }
 ],
 "metadata": {
  "kernelspec": {
   "display_name": "Python 3",
   "language": "python",
   "name": "python3"
  },
  "language_info": {
   "codemirror_mode": {
    "name": "ipython",
    "version": 3
   },
   "file_extension": ".py",
   "mimetype": "text/x-python",
   "name": "python",
   "nbconvert_exporter": "python",
   "pygments_lexer": "ipython3",
   "version": "3.8.8"
  }
 },
 "nbformat": 4,
 "nbformat_minor": 5
}
